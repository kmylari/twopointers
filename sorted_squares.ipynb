{
 "cells": [
  {
   "cell_type": "code",
   "execution_count": 5,
   "metadata": {},
   "outputs": [
    {
     "name": "stdout",
     "output_type": "stream",
     "text": [
      "[0, 1, 4, 4, 9]\n",
      "[1, 4, 9, 16, 25, 36]\n",
      "[]\n",
      "[4]\n"
     ]
    }
   ],
   "source": [
    "from typing import List\n",
    "def sortedSquares(nums: List[int]) -> List[int]:\n",
    "    left = 0\n",
    "    right = len(nums)-1\n",
    "    sorted_squares = []\n",
    "    while left <= right:\n",
    "        if (nums[right] * nums[right] >= nums[left] * nums[left]):\n",
    "            sorted_squares.insert(0, nums[right] * nums[right])\n",
    "            right -= 1\n",
    "        else:\n",
    "            sorted_squares.insert(0, nums[left] * nums [left])\n",
    "            left += 1\n",
    "    return sorted_squares\n",
    "\n",
    "\n",
    "if __name__ == \"__main__\":\n",
    "    print(sortedSquares([-2, -1, 0, 2, 3]))\n",
    "    print(sortedSquares([1, 2, 3, 4, 5, 6]))\n",
    "    print(sortedSquares([]))\n",
    "    print(sortedSquares([-2]))\n"
   ]
  }
 ],
 "metadata": {
  "kernelspec": {
   "display_name": "Python 3",
   "language": "python",
   "name": "python3"
  },
  "language_info": {
   "codemirror_mode": {
    "name": "ipython",
    "version": 3
   },
   "file_extension": ".py",
   "mimetype": "text/x-python",
   "name": "python",
   "nbconvert_exporter": "python",
   "pygments_lexer": "ipython3",
   "version": "3.12.1"
  }
 },
 "nbformat": 4,
 "nbformat_minor": 2
}
